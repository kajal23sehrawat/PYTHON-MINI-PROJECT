{
 "cells": [
  {
   "cell_type": "markdown",
   "metadata": {},
   "source": [
    "## PYTHON PROJECT"
   ]
  },
  {
   "cell_type": "markdown",
   "metadata": {},
   "source": [
    "## KAJAL SEHRAWAT        ................      2K18CSUN01022\n",
    "## JAHNVI SAINI                ...............       2K18CSUN01021"
   ]
  },
  {
   "cell_type": "markdown",
   "metadata": {},
   "source": [
    "## VIDEO LINK: https://drive.google.com/file/d/1q2Tf-svLWzm2deLmv0i0kzwKF0rVorwi/view?usp=sharing"
   ]
  },
  {
   "cell_type": "markdown",
   "metadata": {},
   "source": [
    "## A project that will split players randomly into two teams."
   ]
  },
  {
   "cell_type": "code",
   "execution_count": 4,
   "metadata": {},
   "outputs": [
    {
     "name": "stdout",
     "output_type": "stream",
     "text": [
      "The players are: ['KAJAL', 'JAHNVI', 'GAURI', 'AYESHA', 'SWATI', 'NISH']\n",
      "The teams are: ['AIR FALACONS', 'WATER SHARKS', 'FOREST RHINOS']\n",
      "First team is AIR FALACONS\n",
      "Second team is WATER SHARKS\n",
      "AIR FALACONS chooses GAURI\n",
      "WATER SHARKS chooses KAJAL\n",
      "AIR FALACONS chooses SWATI\n",
      "WATER SHARKS chooses NISH\n",
      "AIR FALACONS chooses JAHNVI\n",
      "WATER SHARKS chooses AYESHA\n",
      "AIR FALACONS [[...], 'GAURI', 'SWATI', 'JAHNVI']\n",
      "WATER SHARKS [[...], 'KAJAL', 'NISH', 'AYESHA']\n"
     ]
    }
   ],
   "source": [
    "from random import choice\n",
    "\n",
    "players = []\n",
    "file = open('Player.txt', 'r')\n",
    "players = file.read().splitlines()\n",
    "print('The players are:', players)\n",
    "\n",
    "teams = ['AIR FALACONS', 'WATER SHARKS', 'FOREST RHINOS']\n",
    "print('The teams are:', teams)\n",
    "\n",
    "teamA = []\n",
    "teamB = []\n",
    "\n",
    "team1 = choice(teams)\n",
    "print('First team is', team1)\n",
    "teamA.append(teamA)\n",
    "teams.remove(team1)\n",
    "\n",
    "team2 = choice(teams)\n",
    "print('Second team is', team2)\n",
    "teamB.append(teamB)\n",
    "teams.remove(team2)\n",
    "\n",
    "while len(players) > 0:\n",
    "  player1 = choice(players)\n",
    "  print(team1, 'chooses', player1)\n",
    "  teamA.append(player1)\n",
    "  players.remove(player1)\n",
    " \n",
    "  \n",
    "  if players == []:\n",
    "    break\n",
    "  \n",
    "  player2 = choice(players)\n",
    "  print(team2, 'chooses', player2)\n",
    "  teamB.append(player2)\n",
    "  players.remove(player2)\n",
    "  \n",
    "  \n",
    "print(team1, teamA)\n",
    "print(team2, teamB)\n",
    "\n"
   ]
  },
  {
   "cell_type": "code",
   "execution_count": null,
   "metadata": {},
   "outputs": [],
   "source": []
  }
 ],
 "metadata": {
  "kernelspec": {
   "display_name": "Python 3",
   "language": "python",
   "name": "python3"
  },
  "language_info": {
   "codemirror_mode": {
    "name": "ipython",
    "version": 3
   },
   "file_extension": ".py",
   "mimetype": "text/x-python",
   "name": "python",
   "nbconvert_exporter": "python",
   "pygments_lexer": "ipython3",
   "version": "3.7.4"
  }
 },
 "nbformat": 4,
 "nbformat_minor": 2
}
